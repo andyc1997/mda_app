{
 "cells": [
  {
   "cell_type": "code",
   "execution_count": 1,
   "metadata": {},
   "outputs": [
    {
     "name": "stdout",
     "output_type": "stream",
     "text": [
      "C:\\Users\\user\\Desktop\\KUL - Mstat\\Modern Data Analytics\\proj\n"
     ]
    }
   ],
   "source": [
    "import pandas as pd\n",
    "import dill\n",
    "from matplotlib import pyplot as plt\n",
    "\n",
    "from sklearn.model_selection import train_test_split\n",
    "from sklearn.pipeline import make_pipeline\n",
    "from sklearn.inspection import plot_partial_dependence, permutation_importance\n",
    "\n",
    "%cd C:\\Users\\user\\Desktop\\KUL - Mstat\\Modern Data Analytics\\proj"
   ]
  },
  {
   "cell_type": "code",
   "execution_count": 2,
   "metadata": {},
   "outputs": [],
   "source": [
    "# import data\n",
    "mortality = pd.read_csv('mortality_merged.csv')"
   ]
  },
  {
   "cell_type": "code",
   "execution_count": 3,
   "metadata": {},
   "outputs": [],
   "source": [
    "class subset_helper():\n",
    "    def __init__(self, data):\n",
    "        self.data = data\n",
    "        \n",
    "    def get_summer(self, df):\n",
    "        return df[(df['MONTH'] <= 8) & (df['MONTH'] >= 5)]\n",
    "\n",
    "    def get_disease(self, df):\n",
    "        diseases = ('Diseases of the circulatory system', \n",
    "                    'Diseases of the respiratory system', \n",
    "                    'Diseases of the skin and subcutaneous tissue')\n",
    "        return df[df['COD'].isin(diseases)]\n",
    "    \n",
    "    def subset(self):\n",
    "        self.data = self.get_summer(self.data)\n",
    "        self.data = self.get_disease(self.data)\n",
    "        return self.data\n",
    "mortality = subset_helper(mortality).subset()"
   ]
  },
  {
   "cell_type": "code",
   "execution_count": 4,
   "metadata": {},
   "outputs": [],
   "source": [
    "# Train-test split\n",
    "TEST_SIZE = 0.1\n",
    "SEED = 467051528\n",
    "X_train, X_test, y_train, y_test = train_test_split(mortality.drop('COUNT', axis = 1), \n",
    "                                                    mortality['COUNT'], \n",
    "                                                    test_size = TEST_SIZE,\n",
    "                                                    random_state = SEED,\n",
    "                                                    shuffle = True)"
   ]
  },
  {
   "cell_type": "code",
   "execution_count": 5,
   "metadata": {},
   "outputs": [],
   "source": [
    "# load model\n",
    "with open('gradientboosting.pkl', 'rb') as file:\n",
    "    model = dill.load(file) "
   ]
  },
  {
   "cell_type": "code",
   "execution_count": 6,
   "metadata": {},
   "outputs": [],
   "source": [
    "# Eli5 cannot handle preprocessing steps, must pass np.array\n",
    "def transform_data(model, X):\n",
    "    return make_pipeline(model.named_steps['preprocessing']).transform(X)"
   ]
  },
  {
   "cell_type": "code",
   "execution_count": 7,
   "metadata": {},
   "outputs": [],
   "source": [
    "# Get feature names from the pipeline obj\n",
    "def get_feature_names(model):\n",
    "    cont_name = model.named_steps['preprocessing'].transformers_[1][2]\n",
    "    cat_name = model.named_steps['preprocessing'].transformers_[2][1].get_feature_names().tolist()\n",
    "    return cont_name + cat_name"
   ]
  },
  {
   "cell_type": "code",
   "execution_count": 8,
   "metadata": {},
   "outputs": [],
   "source": [
    "# Permutation importance for training data\n",
    "permutation = permutation_importance(model, X_train, y_train)"
   ]
  },
  {
   "cell_type": "code",
   "execution_count": 9,
   "metadata": {},
   "outputs": [
    {
     "data": {
      "image/png": "[encoded data removed]",
      "text/plain": [
       "<Figure size 432x288 with 1 Axes>"
      ]
     },
     "metadata": {
      "needs_background": "light"
     },
     "output_type": "display_data"
    }
   ],
   "source": [
    "sorted_idx = permutation.importances_mean.argsort()\n",
    "fig, ax = plt.subplots()\n",
    "ax.boxplot(permutation.importances[sorted_idx].T,\n",
    "           vert = False, labels = X_train.columns[sorted_idx])\n",
    "ax.set_title('Permutation Importances for training data')\n",
    "fig.tight_layout()\n",
    "plt.show()"
   ]
  },
  {
   "cell_type": "code",
   "execution_count": 10,
   "metadata": {},
   "outputs": [
    {
     "data": {
      "text/plain": [
       "(12, 5)"
      ]
     },
     "execution_count": 10,
     "metadata": {},
     "output_type": "execute_result"
    }
   ],
   "source": [
    "permutation.importances[sorted_idx].shape"
   ]
  },
  {
   "cell_type": "code",
   "execution_count": 11,
   "metadata": {},
   "outputs": [
    {
     "data": {
      "image/png": "[encoded data removed]",
      "text/plain": [
       "<Figure size 432x288 with 1 Axes>"
      ]
     },
     "metadata": {
      "needs_background": "light"
     },
     "output_type": "display_data"
    }
   ],
   "source": [
    "permutation = permutation_importance(model, X_test, y_test)\n",
    "sorted_idx = permutation.importances_mean.argsort()\n",
    "fig, ax = plt.subplots()\n",
    "ax.boxplot(permutation.importances[sorted_idx].T,\n",
    "           vert = False, labels = X_test.columns[sorted_idx])\n",
    "ax.set_title('Permutation Importances for test data')\n",
    "fig.tight_layout()\n",
    "plt.show()"
   ]
  }
 ],
 "metadata": {
  "kernelspec": {
   "display_name": "Python 3",
   "language": "python",
   "name": "python3"
  },
  "language_info": {
   "codemirror_mode": {
    "name": "ipython",
    "version": 3
   },
   "file_extension": ".py",
   "mimetype": "text/x-python",
   "name": "python",
   "nbconvert_exporter": "python",
   "pygments_lexer": "ipython3",
   "version": "3.8.5"
  }
 },
 "nbformat": 4,
 "nbformat_minor": 4
}
