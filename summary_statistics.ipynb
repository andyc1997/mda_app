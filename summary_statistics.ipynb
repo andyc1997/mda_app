{
 "cells": [
  {
   "cell_type": "code",
   "execution_count": 2,
   "metadata": {},
   "outputs": [
    {
     "name": "stdout",
     "output_type": "stream",
     "text": [
      "C:\\Users\\user\\Desktop\\KUL - Mstat\\Modern Data Analytics\\proj\n"
     ]
    }
   ],
   "source": [
    "import numpy as np\n",
    "import pandas as pd\n",
    "from matplotlib import pyplot as plt\n",
    "import seaborn as sns\n",
    "\n",
    "%cd C:\\Users\\user\\Desktop\\KUL - Mstat\\Modern Data Analytics\\proj\\"
   ]
  },
  {
   "cell_type": "code",
   "execution_count": 3,
   "metadata": {},
   "outputs": [],
   "source": [
    "# import data\n",
    "mortality = pd.read_csv('mortality_merged.csv')"
   ]
  },
  {
   "cell_type": "code",
   "execution_count": 4,
   "metadata": {},
   "outputs": [],
   "source": [
    "class subset_helper():\n",
    "    def __init__(self, data):\n",
    "        self.data = data\n",
    "        \n",
    "    def get_summer(self, df):\n",
    "        return df[(df['MONTH'] <= 8) & (df['MONTH'] >= 5)]\n",
    "\n",
    "    def get_disease(self, df):\n",
    "        diseases = ('Diseases of the circulatory system', \n",
    "                    'Diseases of the respiratory system', \n",
    "                    'Diseases of the skin and subcutaneous tissue')\n",
    "        return df[df['COD'].isin(diseases)]\n",
    "    \n",
    "    def subset(self):\n",
    "        self.data = self.get_summer(self.data)\n",
    "        self.data = self.get_disease(self.data)\n",
    "        return self.data\n",
    "mortality = subset_helper(mortality).subset()"
   ]
  },
  {
   "cell_type": "code",
   "execution_count": 8,
   "metadata": {},
   "outputs": [
    {
     "data": {
      "text/html": [
       "<div>\n",
       "<style scoped>\n",
       "    .dataframe tbody tr th:only-of-type {\n",
       "        vertical-align: middle;\n",
       "    }\n",
       "\n",
       "    .dataframe tbody tr th {\n",
       "        vertical-align: top;\n",
       "    }\n",
       "\n",
       "    .dataframe thead th {\n",
       "        text-align: right;\n",
       "    }\n",
       "</style>\n",
       "<table border=\"1\" class=\"dataframe\">\n",
       "  <thead>\n",
       "    <tr style=\"text-align: right;\">\n",
       "      <th>AGE-GROUP</th>\n",
       "      <th>0-24</th>\n",
       "      <th>25-44</th>\n",
       "      <th>45-64</th>\n",
       "      <th>65-74</th>\n",
       "      <th>75-84</th>\n",
       "      <th>85+</th>\n",
       "    </tr>\n",
       "    <tr>\n",
       "      <th>COD</th>\n",
       "      <th></th>\n",
       "      <th></th>\n",
       "      <th></th>\n",
       "      <th></th>\n",
       "      <th></th>\n",
       "      <th></th>\n",
       "    </tr>\n",
       "  </thead>\n",
       "  <tbody>\n",
       "    <tr>\n",
       "      <th>Diseases of the circulatory system</th>\n",
       "      <td>106</td>\n",
       "      <td>697</td>\n",
       "      <td>7259</td>\n",
       "      <td>10157</td>\n",
       "      <td>26601</td>\n",
       "      <td>39914</td>\n",
       "    </tr>\n",
       "    <tr>\n",
       "      <th>Diseases of the respiratory system</th>\n",
       "      <td>34</td>\n",
       "      <td>145</td>\n",
       "      <td>2295</td>\n",
       "      <td>4104</td>\n",
       "      <td>9440</td>\n",
       "      <td>11746</td>\n",
       "    </tr>\n",
       "    <tr>\n",
       "      <th>Diseases of the skin and subcutaneous tissue</th>\n",
       "      <td>1</td>\n",
       "      <td>7</td>\n",
       "      <td>44</td>\n",
       "      <td>65</td>\n",
       "      <td>258</td>\n",
       "      <td>507</td>\n",
       "    </tr>\n",
       "  </tbody>\n",
       "</table>\n",
       "</div>"
      ],
      "text/plain": [
       "AGE-GROUP                                     0-24  25-44  45-64  65-74  \\\n",
       "COD                                                                       \n",
       "Diseases of the circulatory system             106    697   7259  10157   \n",
       "Diseases of the respiratory system              34    145   2295   4104   \n",
       "Diseases of the skin and subcutaneous tissue     1      7     44     65   \n",
       "\n",
       "AGE-GROUP                                     75-84    85+  \n",
       "COD                                                         \n",
       "Diseases of the circulatory system            26601  39914  \n",
       "Diseases of the respiratory system             9440  11746  \n",
       "Diseases of the skin and subcutaneous tissue    258    507  "
      ]
     },
     "execution_count": 8,
     "metadata": {},
     "output_type": "execute_result"
    }
   ],
   "source": [
    "pd.crosstab(mortality['COD'], mortality['AGE-GROUP'], values = mortality['COUNT'], aggfunc = np.sum)"
   ]
  },
  {
   "cell_type": "code",
   "execution_count": null,
   "metadata": {},
   "outputs": [],
   "source": []
  }
 ],
 "metadata": {
  "kernelspec": {
   "display_name": "Python 3",
   "language": "python",
   "name": "python3"
  },
  "language_info": {
   "codemirror_mode": {
    "name": "ipython",
    "version": 3
   },
   "file_extension": ".py",
   "mimetype": "text/x-python",
   "name": "python",
   "nbconvert_exporter": "python",
   "pygments_lexer": "ipython3",
   "version": "3.8.5"
  }
 },
 "nbformat": 4,
 "nbformat_minor": 4
}
