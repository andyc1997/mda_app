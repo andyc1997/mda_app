{
 "cells": [
  {
   "cell_type": "code",
   "execution_count": 12,
   "metadata": {},
   "outputs": [
    {
     "name": "stdout",
     "output_type": "stream",
     "text": [
      "C:\\Users\\user\\Desktop\\KUL - Mstat\\Modern Data Analytics\\proj\n"
     ]
    }
   ],
   "source": [
    "import numpy as np\n",
    "import pandas as pd\n",
    "%cd C:\\Users\\user\\Desktop\\KUL - Mstat\\Modern Data Analytics\\proj "
   ]
  },
  {
   "cell_type": "code",
   "execution_count": 13,
   "metadata": {},
   "outputs": [],
   "source": [
    "ROW_SKIP = 13\n",
    "climate_brussels = pd.read_csv('Daily_19830101_20081231_brussels.csv', skiprows = ROW_SKIP)\n",
    "climate_dinant = pd.read_csv('Daily_19830101_20081231_dinant.csv',  skiprows = ROW_SKIP)\n",
    "climate_antwerp = pd.read_csv('Daily_19830101_20081231_antwerp.csv', skiprows = ROW_SKIP)"
   ]
  },
  {
   "cell_type": "code",
   "execution_count": 14,
   "metadata": {},
   "outputs": [],
   "source": [
    "class cleaner_climate():\n",
    "    def __init__(self, brussels, antwerp, dinant):\n",
    "        date_dict = {'YEAR': 'YEAR', 'MO': 'MONTH', 'DY': 'DAY'}\n",
    "        self.brussels = brussels.rename(columns = date_dict)\n",
    "        self.antwerp = antwerp.rename(columns = date_dict)\n",
    "        self.dinant = dinant.rename(columns = date_dict)\n",
    "    \n",
    "        region_name = 'REGION'\n",
    "        self.brussels[region_name] = 4000\n",
    "        self.antwerp[region_name] = 2000\n",
    "        self.dinant[region_name] = 3000\n",
    "    \n",
    "    def concatenate(self):\n",
    "        df_results = pd.DataFrame()\n",
    "        return df_results.append([self.brussels, self.antwerp, self.dinant])\n",
    "    \n",
    "    def monthly_stat(self):\n",
    "        df_results = pd.DataFrame()\n",
    "        group_list = ['REGION', 'MONTH'] # Consider all the years\n",
    "        df_groupby = self.concatenate().groupby(group_list)\n",
    "        \n",
    "        df_results['TEMP_90th'] = df_groupby['T2M_MAX'].quantile(.90) # Monthly 90% quantile of T2M\n",
    "        return df_results\n"
   ]
  },
  {
   "cell_type": "code",
   "execution_count": 15,
   "metadata": {},
   "outputs": [],
   "source": [
    "Cleaner = cleaner_climate(climate_brussels, climate_antwerp, climate_dinant)\n",
    "climate = Cleaner.monthly_stat()"
   ]
  },
  {
   "cell_type": "code",
   "execution_count": 16,
   "metadata": {},
   "outputs": [],
   "source": [
    "climate.reset_index().to_csv('reference_dist_1983_to_2008.csv', index = False)"
   ]
  },
  {
   "cell_type": "code",
   "execution_count": null,
   "metadata": {},
   "outputs": [],
   "source": []
  }
 ],
 "metadata": {
  "kernelspec": {
   "display_name": "Python 3",
   "language": "python",
   "name": "python3"
  },
  "language_info": {
   "codemirror_mode": {
    "name": "ipython",
    "version": 3
   },
   "file_extension": ".py",
   "mimetype": "text/x-python",
   "name": "python",
   "nbconvert_exporter": "python",
   "pygments_lexer": "ipython3",
   "version": "3.8.5"
  }
 },
 "nbformat": 4,
 "nbformat_minor": 4
}
