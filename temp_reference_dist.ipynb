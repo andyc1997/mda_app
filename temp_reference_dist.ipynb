{
 "cells": [
  {
   "cell_type": "code",
   "execution_count": null,
   "metadata": {},
   "outputs": [],
   "source": [
    "import numpy as np\n",
    "import pandas as pd\n",
    "%cd C:\\Users\\user\\Desktop\\KUL - Mstat\\Modern Data Analytics\\proj "
   ]
  },
  {
   "cell_type": "code",
   "execution_count": null,
   "metadata": {},
   "outputs": [],
   "source": [
    "ROW_SKIP = 13\n",
    "climate_brussels = pd.read_csv('Daily_19830101_20081231_brussels.csv', skiprows = ROW_SKIP)\n",
    "climate_dinant = pd.read_csv('Daily_19830101_20081231_dinant.csv',  skiprows = ROW_SKIP)\n",
    "climate_antwerp = pd.read_csv('Daily_19830101_20081231_antwerp.csv', skiprows = ROW_SKIP)"
   ]
  },
  {
   "cell_type": "code",
   "execution_count": null,
   "metadata": {},
   "outputs": [],
   "source": [
    "# Rename date columns\n",
    "date_dict = {'YEAR': 'YEAR', 'MO': 'MONTH', 'DY': 'DAY'}\n",
    "for climate_city in [climate_brussels, climate_antwerp, climate_dinant]:\n",
    "    climate_city.rename(columns = date_dict, inplace = True)"
   ]
  },
  {
   "cell_type": "code",
   "execution_count": 4,
   "metadata": {},
   "outputs": [],
   "source": [
    "# Add region code\n",
    "region_name = 'REGION'\n",
    "climate_brussels[region_name] = 4000\n",
    "climate_antwerp[region_name] = 2000\n",
    "climate_dinant[region_name] = 3000"
   ]
  },
  {
   "cell_type": "code",
   "execution_count": 5,
   "metadata": {},
   "outputs": [],
   "source": [
    "# Concatenate dataframes from cities\n",
    "df_concat = pd.DataFrame().append([climate_brussels, climate_antwerp, climate_dinant])"
   ]
  },
  {
   "cell_type": "code",
   "execution_count": 6,
   "metadata": {},
   "outputs": [],
   "source": [
    "group_list = ['REGION', 'MONTH'] # Monthly distribution\n",
    "\n",
    "class cleaner_climate():\n",
    "    def __init__(self, df_concat):\n",
    "        self.climate_city = df_concat\n",
    "    \n",
    "    def skip_year(self, year = None):\n",
    "        if year != None:\n",
    "            return self.climate_city[self.climate_city['YEAR'] != year]\n",
    "        else:\n",
    "            return self.climate_city \n",
    "        \n",
    "    def monthly_stat(self):\n",
    "        df_results = pd.DataFrame()\n",
    "        df_groupby = self.skip_year().groupby(group_list)\n",
    "        df_results['TEMPMAX_90th'] = df_groupby['T2M_MAX'].quantile(.90) # Monthly 90% quantile of T2M\n",
    "        return df_results\n"
   ]
  },
  {
   "cell_type": "code",
   "execution_count": 7,
   "metadata": {},
   "outputs": [],
   "source": [
    "Cleaner = cleaner_climate(df_concat)\n",
    "climate = Cleaner.monthly_stat()"
   ]
  },
  {
   "cell_type": "code",
   "execution_count": 8,
   "metadata": {},
   "outputs": [],
   "source": [
    "climate.reset_index().to_csv('reference_dist_1983_to_2008.csv', index = False)"
   ]
  },
  {
   "cell_type": "code",
   "execution_count": null,
   "metadata": {},
   "outputs": [],
   "source": []
  }
 ],
 "metadata": {
  "kernelspec": {
   "display_name": "Python 3",
   "language": "python",
   "name": "python3"
  },
  "language_info": {
   "codemirror_mode": {
    "name": "ipython",
    "version": 3
   },
   "file_extension": ".py",
   "mimetype": "text/x-python",
   "name": "python",
   "nbconvert_exporter": "python",
   "pygments_lexer": "ipython3",
   "version": "3.8.5"
  }
 },
 "nbformat": 4,
 "nbformat_minor": 4
}
