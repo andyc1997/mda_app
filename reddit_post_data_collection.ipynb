{
 "cells": [
  {
   "cell_type": "markdown",
   "metadata": {},
   "source": [
    "<font color='red'>**Collect heatwave-related comment and post from reddit**</font>"
   ]
  },
  {
   "cell_type": "code",
   "execution_count": 11,
   "metadata": {},
   "outputs": [
    {
     "name": "stdout",
     "output_type": "stream",
     "text": [
      "C:\\Users\\user\\Desktop\\KUL - Mstat\\Modern Data Analytics\n"
     ]
    }
   ],
   "source": [
    "# Install this to scrape reddit comment, otherwise you can only access top 1000 comments using 'requests'\n",
    "# !pip install praw\n",
    "%cd C:\\Users\\user\\Desktop\\KUL - Mstat\\Modern Data Analytics # Set your path here"
   ]
  },
  {
   "cell_type": "code",
   "execution_count": 78,
   "metadata": {},
   "outputs": [],
   "source": [
    "import praw # For scraping\n",
    "import pandas as pd\n",
    "from datetime import datetime"
   ]
  },
  {
   "cell_type": "code",
   "execution_count": 173,
   "metadata": {},
   "outputs": [],
   "source": [
    "# To get 'client_id' and 'client_secret', go to : https://www.reddit.com/prefs/apps, click script on create application section \n",
    "# 'user_agent' can be filled with any string\n",
    "# 'username' and 'password' are your reddit account\n",
    "reddit = praw.Reddit(client_id = 'h9WMn8fyPG0Dxg', client_secret = 'jM3QrDiSTNOnk1zA_dGhe6F_B3D4HA',\n",
    "                    user_agent = '\"Comment Extraction (by u/watashimikami)\"', \n",
    "                    username = # Enter your reddit id,\n",
    "                    password = # Enter your password)\n",
    "# url = 'https://www.reddit.com/r/worldnews/comments/1imctp/almost_800_people_have_died_so_far_in_britains/'"
   ]
  },
  {
   "cell_type": "code",
   "execution_count": 174,
   "metadata": {},
   "outputs": [],
   "source": [
    "# Load all the comments and their replies\n",
    "submission = reddit.submission(url = url)\n",
    "while True:\n",
    "    try:\n",
    "        submission.comments.replace_more(limit = None)\n",
    "        break\n",
    "    except Exception:\n",
    "        time.sleep(1)"
   ]
  },
  {
   "cell_type": "code",
   "execution_count": 175,
   "metadata": {},
   "outputs": [],
   "source": [
    "# Store everything into a dataframe, including post id, text of comments, upvotes and downvotes, the time when comment created, \n",
    "# and the parent id of comments\n",
    "df_reddit = pd.DataFrame()\n",
    "submission.comments.replace_more(limit = None)\n",
    "\n",
    "for comment in submission.comments.list():\n",
    "     df_reddit = df_reddit.append({'id': comment.id, \n",
    "                                   'comment': comment.body, \n",
    "                                   'upvotes': comment.ups, \n",
    "                                   'downvotes': comment.downs, \n",
    "                                   'time': str(pd.to_datetime(datetime.fromtimestamp(comment.created))), \n",
    "                                   'parent_id': comment.parent_id}, ignore_index = True)"
   ]
  },
  {
   "cell_type": "code",
   "execution_count": 176,
   "metadata": {},
   "outputs": [],
   "source": [
    "# Save your scraped comment\n",
    "df_reddit.to_csv('hell_is_coming_western_europe_braces_for_its.csv')"
   ]
  },
  {
   "cell_type": "code",
   "execution_count": null,
   "metadata": {},
   "outputs": [],
   "source": []
  },
  {
   "cell_type": "code",
   "execution_count": null,
   "metadata": {},
   "outputs": [],
   "source": []
  },
  {
   "cell_type": "code",
   "execution_count": null,
   "metadata": {},
   "outputs": [],
   "source": []
  },
  {
   "cell_type": "code",
   "execution_count": null,
   "metadata": {},
   "outputs": [],
   "source": []
  },
  {
   "cell_type": "code",
   "execution_count": null,
   "metadata": {},
   "outputs": [],
   "source": []
  },
  {
   "cell_type": "code",
   "execution_count": null,
   "metadata": {},
   "outputs": [],
   "source": []
  },
  {
   "cell_type": "code",
   "execution_count": null,
   "metadata": {},
   "outputs": [],
   "source": []
  }
 ],
 "metadata": {
  "kernelspec": {
   "display_name": "Python 3",
   "language": "python",
   "name": "python3"
  },
  "language_info": {
   "codemirror_mode": {
    "name": "ipython",
    "version": 3
   },
   "file_extension": ".py",
   "mimetype": "text/x-python",
   "name": "python",
   "nbconvert_exporter": "python",
   "pygments_lexer": "ipython3",
   "version": "3.8.5"
  }
 },
 "nbformat": 4,
 "nbformat_minor": 4
}
